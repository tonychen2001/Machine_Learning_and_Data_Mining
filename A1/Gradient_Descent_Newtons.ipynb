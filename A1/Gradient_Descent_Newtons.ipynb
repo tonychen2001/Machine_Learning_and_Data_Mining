{
 "cells": [
  {
   "cell_type": "code",
   "execution_count": 8,
   "metadata": {},
   "outputs": [],
   "source": [
    "import numpy as np\n",
    "import matplotlib.pyplot as plt"
   ]
  },
  {
   "cell_type": "markdown",
   "metadata": {},
   "source": [
    "# Question 1 Part 1 (Gradient Descent Method)"
   ]
  },
  {
   "cell_type": "markdown",
   "metadata": {},
   "source": [
    "## Cost function\n",
    "In this case the cost function is $2x_{1}^2$ + $x_{2}^2$ + $x_{3}^4$\n",
    "\n",
    "`cost_function(X)` calculates the output of the cost function given input X = [$x_{1}$, $x_{2}$, $x_{3}$]"
   ]
  },
  {
   "cell_type": "code",
   "execution_count": 9,
   "metadata": {},
   "outputs": [],
   "source": [
    "# cost function\n",
    "# X = [x_1, x_2, x_3]\n",
    "# Returns 2(x_1^2) + x_2^2 + x_3^4\n",
    "def cost_function(X):\n",
    "    return ((2 * X[0]**2) + (X[1]**2) + (X[2]**4))\n",
    "\n",
    "# check for convergence\n",
    "# if difference between two consecutive steps < rel_error then converged\n",
    "# otherwise not converged\n",
    "def converged(new_val, old_val, rel_err):\n",
    "    return abs((new_val - old_val) / old_val) < rel_err\n"
   ]
  },
  {
   "cell_type": "markdown",
   "metadata": {},
   "source": [
    "## Gradient\n",
    "$$\\nabla f= \\begin{bmatrix}\n",
    "           4x_{1} \\\\\n",
    "           2x_{2} \\\\\n",
    "           4x_{3}^3 \\\\\n",
    "            \\end{bmatrix}$$\n"
   ]
  },
  {
   "cell_type": "code",
   "execution_count": 10,
   "metadata": {},
   "outputs": [],
   "source": [
    "# gradient of f at X\n",
    "# X = [x_1, x_2, x_3]\n",
    "def gradient(X):\n",
    "    x_1 = 4 * X[0]\n",
    "    x_2 = 2 * X[1]\n",
    "    x_3 = 4 * X[2]**3\n",
    "\n",
    "    return np.array([x_1, x_2, x_3])"
   ]
  },
  {
   "cell_type": "markdown",
   "metadata": {},
   "source": [
    "## Gradient Descent\n",
    "Termination conditions:  \n",
    "- MAX_ITERATION = 20  \n",
    "- REL_ERROR = 0.001  \n",
    "- $\\alpha_{t}$ = 0.1\n",
    "\n",
    "This function will use the gradient descent method to update $x_{1}$, $x_{2}$, $x_{3}$ to minimize the function $2x_{1}^2$ + $x_{2}^2$ + $x_{3}^4$.\n",
    "\n",
    "There will be `MAX_ITERATION` number of steps unless if the difference between 2 consecutive steps is less than `REL_ERROR`, then the algorithm will stop early."
   ]
  },
  {
   "cell_type": "code",
   "execution_count": 11,
   "metadata": {},
   "outputs": [
    {
     "name": "stdout",
     "output_type": "stream",
     "text": [
      "Iterations: 20\n",
      "Learning rate: 0.1\n",
      "Optimal Value: 0.004818289181363018\n",
      "Optimal Solution: [ 3.65615844e-05 -4.61168602e-02 -2.27771547e-01]\n"
     ]
    },
    {
     "data": {
      "image/png": "[encoded data removed]",
      "text/plain": [
       "<Figure size 432x288 with 1 Axes>"
      ]
     },
     "metadata": {
      "needs_background": "light"
     },
     "output_type": "display_data"
    }
   ],
   "source": [
    "# minimize loss function\n",
    "# learningRate: learning rate (alpha_t)\n",
    "# MAX_ITERATION: max iteration termination condition\n",
    "# REL_ERROR: relative error termination condition\n",
    "def gradDescent(X, learningRate = 0.1, MAX_ITERATION = 20, REL_ERROR = 0.001):\n",
    "    iterations = 0                  # Tracker of number of iterations\n",
    "    old_val = cost_function(X)      # Tracker of cost value for previous step\n",
    "    optimal_val = old_val           # Tracker for minimum value of cost function\n",
    "    optimal_sol = X                 # Tracker for solution that provides min cost value\n",
    "    cost_vals = np.array([old_val]) # Array of cost values used to plot the cost value wrt iteration num\n",
    "\n",
    "    for _ in range(MAX_ITERATION):\n",
    "        # Calculate new input using gradient descent\n",
    "        X = X - learningRate * gradient(X)\n",
    "        new_val = cost_function(X)\n",
    "        \n",
    "        iterations += 1\n",
    "        cost_vals = np.append(cost_vals, new_val)\n",
    "        \n",
    "        # Update optimal solution if needed\n",
    "        if (new_val < optimal_val):\n",
    "            optimal_val = new_val\n",
    "            optimal_sol = X\n",
    "\n",
    "        # Check for convergence\n",
    "        if converged(new_val, old_val, REL_ERROR):\n",
    "            break\n",
    "        \n",
    "        old_val = new_val\n",
    "\n",
    "    num_iter = np.arange(iterations + 1)\n",
    "    plt.scatter(num_iter, cost_vals)\n",
    "    plt.xlabel(\"Iteration\")\n",
    "    plt.ylabel(\"Objective value\")\n",
    "    print(\"Iterations:\", iterations)\n",
    "    print(\"Learning rate:\", learningRate)\n",
    "    print(\"Optimal Value:\", optimal_val)\n",
    "    print(\"Optimal Solution:\", optimal_sol)\n",
    "\n",
    "gradDescent(X = np.array([1, -4, 2]))"
   ]
  },
  {
   "cell_type": "markdown",
   "metadata": {},
   "source": [
    "## Q1 (I) Answer \n",
    "1). The optimal value is 0.004818289181363018  \n",
    "The optimal solution is  \n",
    "$x_{1}$=3.65615844e-05  \n",
    "$x_{2}$=-4.61168602e-02  \n",
    "$x_{3}$=-2.27771547e-01\n",
    "\n",
    "2).\n",
    "No. It is not always the case that gradient descent steps decrease the loss. Every step in the Gradient descent method will take us in the direction of steepest descent (towards a local minimum) however, how big the step taken determines whether we are actually decreasing the loss.  \n",
    "In the case that the learning rate ($\\alpha_{t}$) is too big, then the step taken could be so big as to overshooting the local mimimum and even take you to a position further away from the local minimum than you were in the previous iteration.  \n",
    "This is evident in the below example where the learning rate ($\\alpha_{t}$) is set higher to a value of 0.13, we can see on the third iteration, the loss increases drastically."
   ]
  },
  {
   "cell_type": "code",
   "execution_count": 12,
   "metadata": {},
   "outputs": [
    {
     "name": "stdout",
     "output_type": "stream",
     "text": [
      "Iterations: 3\n",
      "Learning rate: 0.13\n",
      "Optimal Value: 30.990223360000005\n",
      "Optimal Solution: [ 0.48 -2.96 -2.16]\n"
     ]
    },
    {
     "data": {
      "image/png": "[encoded data removed]",
      "text/plain": [
       "<Figure size 432x288 with 1 Axes>"
      ]
     },
     "metadata": {
      "needs_background": "light"
     },
     "output_type": "display_data"
    }
   ],
   "source": [
    "gradDescent(X = np.array([1, -4, 2]), learningRate=0.13, MAX_ITERATION=3)"
   ]
  },
  {
   "cell_type": "markdown",
   "metadata": {},
   "source": [
    "# Question 1 Part 2 (Newton's Method)"
   ]
  },
  {
   "cell_type": "markdown",
   "metadata": {},
   "source": [
    "## Newton's Method\n",
    "Rather than using a constant learning rate value $\\alpha_{t}$ like in normal Gradient descent. Newton's method involves the inverse of the hessian matrix of f.  \n",
    "$$\\left[\\nabla^2 f\\right]^{-1}= \\left[\\begin{matrix}\n",
    "                4 & 0 & 0 \\\\\n",
    "                0 & 2 & 0 \\\\\n",
    "                0 & 0 & 12x_{3}^2\n",
    "                \\end{matrix}\\right]^{-1}$$"
   ]
  },
  {
   "cell_type": "code",
   "execution_count": 13,
   "metadata": {},
   "outputs": [],
   "source": [
    "# compute the inverse of hessian matrix of f at X\n",
    "# X = [x_1, x_2, x_3]\n",
    "def newtonsRate(X):\n",
    "    hessian = np.array([[4, 0, 0],\n",
    "                        [0, 2, 0],\n",
    "                        [0, 0, 12 * X[2]**2]])\n",
    "    return np.linalg.inv(hessian)"
   ]
  },
  {
   "cell_type": "code",
   "execution_count": 14,
   "metadata": {},
   "outputs": [
    {
     "name": "stdout",
     "output_type": "stream",
     "text": [
      "Iterations: 20\n",
      "Optimal Value: 1.3086371897047623e-13\n",
      "Optimal Solution: [0.         0.         0.00060146]\n"
     ]
    },
    {
     "data": {
      "image/png": "[encoded data removed]",
      "text/plain": [
       "<Figure size 432x288 with 1 Axes>"
      ]
     },
     "metadata": {
      "needs_background": "light"
     },
     "output_type": "display_data"
    }
   ],
   "source": [
    "# newton's method to minimize loss function\n",
    "# learningRate: learning rate (alpha_t)\n",
    "# MAX_ITERATION: max iteration termination condition\n",
    "# REL_ERROR: relative error termination condition\n",
    "def newtonMethod(X, MAX_ITERATION = 20, REL_ERROR = 0.001):\n",
    "    iterations = 0                  # Tracker of number of iterations\n",
    "    old_val = cost_function(X)      # Tracker of cost value for previous step\n",
    "    optimal_val = old_val           # Tracker for minimum value of cost function\n",
    "    optimal_sol = X                 # Tracker for solution that provides min cost value\n",
    "    cost_vals = np.array([old_val]) # Array of cost values used to plot the cost value wrt iteration num\n",
    "\n",
    "    for _ in range(MAX_ITERATION):\n",
    "        # Calculate new input using newton's method\n",
    "        X = X - np.dot(newtonsRate(X), gradient(X))\n",
    "        new_val = cost_function(X)\n",
    "        \n",
    "        iterations += 1\n",
    "        cost_vals = np.append(cost_vals, new_val)\n",
    "        \n",
    "        # Update optimal solution if needed\n",
    "        if (new_val < optimal_val):\n",
    "            optimal_val = new_val\n",
    "            optimal_sol = X\n",
    "\n",
    "        # Check for convergence\n",
    "        if converged(new_val, old_val, REL_ERROR):\n",
    "            break\n",
    "        \n",
    "        old_val = new_val\n",
    "\n",
    "    num_iter = np.arange(iterations + 1)\n",
    "    plt.scatter(num_iter, cost_vals)\n",
    "    plt.xlabel(\"Iteration\")\n",
    "    plt.ylabel(\"Objective value\")\n",
    "    print(\"Iterations:\", iterations)\n",
    "    print(\"Optimal Value:\", optimal_val)\n",
    "    print(\"Optimal Solution:\", optimal_sol)\n",
    "\n",
    "newtonMethod(X = np.array([1, -4, 2]))"
   ]
  },
  {
   "cell_type": "markdown",
   "metadata": {},
   "source": [
    "## Q1 (II) Answer \n",
    "1). The optimal value is 1.3086371897047623e-13  \n",
    "The optimal solution is  \n",
    "$x_{1}$=0  \n",
    "$x_{2}$=0  \n",
    "$x_{3}$=0.00060146\n",
    "\n",
    "2). Gradient descent algorithm searches for a local minimum while Newton's method searches for a root of a function.  \n",
    "Rather than the use  of a hyper-parameter $\\alpha_{t}$ like in gradient descent, newton's method utilizes the second derivative (hessian matrix) of the cost function in its algorithm.  \n",
    "Gradient descent simply uses the gradient to go in the direction of steepest descent and the learning rate ($\\alpha_{t}$) to determine how big of a step to take in order to approach a local minimum avoiding overshooting.  \n",
    "Newton's method uses more information with the second derivative (hessian matrix) of the cost function to guess and take a direct route to a root of the cost function which can lead to Newton's method converging in less iterations than gradient descent algorithm.  \n",
    "\n",
    "3). As seen in the updating rule for Newton's method, it requires the inverse of the hessian matrix of the objective function. If the objective function has $n$ inputs, then $n^2$ values need to be computed to obtain the hessian matrix. This in itself is computationally costly especially when the objective function takes in large amounts of inputs. In addition, this method also requires that the inverse of the hessian matrix exists. \n"
   ]
  }
 ],
 "metadata": {
  "interpreter": {
   "hash": "c41c53919e67cd82e791ee8ce8faf15b48b5a44f132b567f4eac48319f52b8f6"
  },
  "kernelspec": {
   "display_name": "Python 3.8.3 64-bit ('base': conda)",
   "name": "python3"
  },
  "language_info": {
   "codemirror_mode": {
    "name": "ipython",
    "version": 3
   },
   "file_extension": ".py",
   "mimetype": "text/x-python",
   "name": "python",
   "nbconvert_exporter": "python",
   "pygments_lexer": "ipython3",
   "version": "3.8.3"
  },
  "orig_nbformat": 4
 },
 "nbformat": 4,
 "nbformat_minor": 2
}
